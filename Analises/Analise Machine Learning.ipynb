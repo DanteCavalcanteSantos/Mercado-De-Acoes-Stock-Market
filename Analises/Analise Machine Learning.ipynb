{
 "cells": [
  {
   "cell_type": "code",
   "execution_count": 71,
   "metadata": {},
   "outputs": [
    {
     "data": {
      "text/plain": [
       "'\\nObjetivo é treinar um modelo de regressão linear para fazer previsões de preços das empresa Sony, Microsoft, Ubisoft, Nintendo, Eletronic Arts\\n\\n'"
      ]
     },
     "execution_count": 71,
     "metadata": {},
     "output_type": "execute_result"
    }
   ],
   "source": [
    "'''\n",
    "Objetivo é treinar um modelo de regressão linear para fazer previsões de preços das empresa Sony, Microsoft, Ubisoft, Nintendo, Eletronic Arts\n",
    "\n",
    "'''"
   ]
  },
  {
   "cell_type": "code",
   "execution_count": 72,
   "metadata": {},
   "outputs": [],
   "source": [
    "#Bibliotecas utilizadas\n",
    "import pandas as pd\n",
    "import numpy as np\n",
    "import matplotlib.pyplot as plt\n",
    "from sklearn.linear_model import LinearRegression\n",
    "from sklearn.model_selection import train_test_split\n",
    "from statsmodels.tsa.arima.model import ARIMA\n",
    "import datetime as dt"
   ]
  },
  {
   "cell_type": "code",
   "execution_count": 73,
   "metadata": {},
   "outputs": [],
   "source": [
    "#Carregamento dos dados\n",
    "\n",
    "dados =  pd.read_excel(r\"C:\\Users\\dante\\OneDrive\\Documentos\\9. Meus Projetos\\Projetos Power Bi\\Mercado de Ações\\Dados\\Agrupado.xlsx\")\n",
    "\n",
    "df = pd.DataFrame(dados)"
   ]
  },
  {
   "cell_type": "code",
   "execution_count": 74,
   "metadata": {},
   "outputs": [
    {
     "name": "stdout",
     "output_type": "stream",
     "text": [
      "(6290, 7)\n",
      "Index(['Empresa', 'Date', 'Close/Last', 'Volume', 'Open', 'High', 'Low'], dtype='object')\n",
      "          Empresa                 Date Close/Last   Volume     Open      High  \\\n",
      "0  Eletronic Arts  2024-04-11 00:00:00    $152.89  1975349  $152.16   $153.09   \n",
      "1  Eletronic Arts  2024-01-11 00:00:00    $151.26  1954157  $150.83   $152.46   \n",
      "2  Eletronic Arts           10/31/2024    $150.85  2645877  $148.31  $151.585   \n",
      "3  Eletronic Arts           10/30/2024    $149.14  3600584  $147.48   $151.34   \n",
      "4  Eletronic Arts           10/29/2024    $145.62  2703361  $144.14   $146.26   \n",
      "\n",
      "        Low  \n",
      "0   $150.40  \n",
      "1   $149.14  \n",
      "2   $147.59  \n",
      "3   $144.68  \n",
      "4  $144.095  \n",
      "<class 'pandas.core.frame.DataFrame'>\n",
      "RangeIndex: 6290 entries, 0 to 6289\n",
      "Data columns (total 7 columns):\n",
      " #   Column      Non-Null Count  Dtype \n",
      "---  ------      --------------  ----- \n",
      " 0   Empresa     6290 non-null   object\n",
      " 1   Date        6290 non-null   object\n",
      " 2   Close/Last  6290 non-null   object\n",
      " 3   Volume      6290 non-null   int64 \n",
      " 4   Open        6290 non-null   object\n",
      " 5   High        6290 non-null   object\n",
      " 6   Low         6290 non-null   object\n",
      "dtypes: int64(1), object(6)\n",
      "memory usage: 344.1+ KB\n"
     ]
    }
   ],
   "source": [
    "#Visão Geral\n",
    "\n",
    "print(df.shape)\n",
    "print(df.columns)\n",
    "print(df.head())\n",
    "df.info()\n",
    "\n",
    "#A coluna 'Date' será a variavel preditora\n",
    "#As colunas 'Close/Last', 'Volume', 'Open', 'High', 'Low' serão as colunas alvos"
   ]
  },
  {
   "cell_type": "code",
   "execution_count": 75,
   "metadata": {},
   "outputs": [],
   "source": [
    "#Salvando uma cópia do dataset\n",
    "\n",
    "df_original = df.copy()"
   ]
  },
  {
   "cell_type": "code",
   "execution_count": 76,
   "metadata": {},
   "outputs": [
    {
     "name": "stdout",
     "output_type": "stream",
     "text": [
      "datetime64[ns]\n",
      "0   2024-04-11\n",
      "1   2024-01-11\n",
      "2   2024-10-31\n",
      "3   2024-10-30\n",
      "4   2024-10-29\n",
      "Name: Date, dtype: datetime64[ns]\n"
     ]
    }
   ],
   "source": [
    "#Conversão de objeto para data\n",
    "df['Date'] = pd.to_datetime(df['Date'], errors='coerce', format=None)\n",
    "#conferindo as informações\n",
    "print(df['Date'].dtypes)\n",
    "print(df['Date'].head())\n",
    "\n"
   ]
  },
  {
   "cell_type": "code",
   "execution_count": 77,
   "metadata": {},
   "outputs": [
    {
     "name": "stdout",
     "output_type": "stream",
     "text": [
      "Empresa               object\n",
      "Date          datetime64[ns]\n",
      "Close/Last            object\n",
      "Volume                 int64\n",
      "Open                  object\n",
      "High                  object\n",
      "Low                   object\n",
      "dtype: object\n"
     ]
    }
   ],
   "source": [
    "#tipos das colunas\n",
    "\n",
    "tipos = df.dtypes\n",
    "print(tipos)"
   ]
  },
  {
   "cell_type": "code",
   "execution_count": 78,
   "metadata": {},
   "outputs": [
    {
     "name": "stdout",
     "output_type": "stream",
     "text": [
      "Empresa       0\n",
      "Date          0\n",
      "Close/Last    0\n",
      "Volume        0\n",
      "Open          0\n",
      "High          0\n",
      "Low           0\n",
      "dtype: int64\n"
     ]
    }
   ],
   "source": [
    "#Análise Exploratória - Resumo Estatístico\n",
    "\n",
    "valores_ausentes = df.isnull().sum()\n",
    "print(valores_ausentes)\n"
   ]
  },
  {
   "cell_type": "code",
   "execution_count": 79,
   "metadata": {},
   "outputs": [
    {
     "name": "stdout",
     "output_type": "stream",
     "text": [
      "0    152.16\n",
      "1    150.83\n",
      "2    148.31\n",
      "3    147.48\n",
      "4    144.14\n",
      "Name: Open, dtype: object\n",
      "0    152.89\n",
      "1    151.26\n",
      "2    150.85\n",
      "3    149.14\n",
      "4    145.62\n",
      "Name: Close/Last, dtype: object\n",
      "0     153.09\n",
      "1     152.46\n",
      "2    151.585\n",
      "3     151.34\n",
      "4     146.26\n",
      "Name: High, dtype: object\n",
      "0     150.40\n",
      "1     149.14\n",
      "2     147.59\n",
      "3     144.68\n",
      "4    144.095\n",
      "Name: Low, dtype: object\n"
     ]
    }
   ],
   "source": [
    "df['Open'] = df['Open'].str.replace(\"$\", '')\n",
    "df['Close/Last'] = df['Close/Last'].str.replace(\"$\", '')\n",
    "df['High'] = df['High'].str.replace(\"$\", '')\n",
    "df['Low'] = df['Low'].str.replace(\"$\", '')\n",
    "\n",
    "print(df['Open'].head())\n",
    "print(df['Close/Last'].head())\n",
    "print(df['High'].head())\n",
    "print(df['Low'].head())"
   ]
  },
  {
   "cell_type": "code",
   "execution_count": 80,
   "metadata": {},
   "outputs": [
    {
     "name": "stdout",
     "output_type": "stream",
     "text": [
      "Empresa               object\n",
      "Date          datetime64[ns]\n",
      "Close/Last           float64\n",
      "Volume               float64\n",
      "Open                 float64\n",
      "High                 float64\n",
      "Low                  float64\n",
      "dtype: object\n"
     ]
    }
   ],
   "source": [
    "df['Open'] = df['Open'].astype(float)\n",
    "df['Close/Last'] = df['Close/Last'].astype(float)\n",
    "df['High'] = df['High'].astype(float)\n",
    "df['Low'] = df['Low'].astype(float)\n",
    "df['Volume'] = df['Volume'].astype(float)\n",
    "print(df.dtypes)"
   ]
  },
  {
   "cell_type": "code",
   "execution_count": 81,
   "metadata": {},
   "outputs": [
    {
     "name": "stdout",
     "output_type": "stream",
     "text": [
      "                                Date   Close/Last        Volume         Open  \\\n",
      "count                           6290  6290.000000  6.290000e+03  6290.000000   \n",
      "mean   2022-05-06 14:23:05.055644160    90.937978  7.425999e+06    90.925466   \n",
      "min              2019-02-12 00:00:00     2.148000  9.050000e+02     2.050000   \n",
      "25%              2021-02-03 00:00:00    12.185500  7.994190e+05    12.190000   \n",
      "50%              2022-05-07 12:00:00    18.043000  2.295472e+06    18.081000   \n",
      "75%              2023-08-08 00:00:00   138.830000  5.590171e+06   138.880000   \n",
      "max              2024-12-09 00:00:00   467.560000  9.707356e+07   467.000000   \n",
      "std                              NaN   113.290179  1.217958e+07   113.289491   \n",
      "\n",
      "              High          Low  \n",
      "count  6290.000000  6290.000000  \n",
      "mean     91.827667    89.988732  \n",
      "min       2.180000     2.030000  \n",
      "25%      12.285500    12.093500  \n",
      "50%      18.178000    17.933300  \n",
      "75%     140.432500   137.407500  \n",
      "max     468.350000   464.460000  \n",
      "std     114.335753   112.151488  \n"
     ]
    }
   ],
   "source": [
    "descricao = df.describe()\n",
    "print(descricao)"
   ]
  },
  {
   "cell_type": "code",
   "execution_count": 82,
   "metadata": {},
   "outputs": [
    {
     "name": "stdout",
     "output_type": "stream",
     "text": [
      "0   2024-04-11\n",
      "1   2024-01-11\n",
      "2   2024-10-31\n",
      "3   2024-10-30\n",
      "4   2024-10-29\n",
      "Name: Date, dtype: datetime64[ns]\n"
     ]
    }
   ],
   "source": [
    "print(df['Date'].head())"
   ]
  },
  {
   "cell_type": "code",
   "execution_count": 83,
   "metadata": {},
   "outputs": [
    {
     "name": "stdout",
     "output_type": "stream",
     "text": [
      "0    2024\n",
      "1    2024\n",
      "2    2024\n",
      "3    2024\n",
      "4    2024\n",
      "Name: Ano, dtype: int32\n",
      "0     4\n",
      "1     1\n",
      "2    10\n",
      "3    10\n",
      "4    10\n",
      "Name: Mes, dtype: int32\n",
      "0    11\n",
      "1    11\n",
      "2    31\n",
      "3    30\n",
      "4    29\n",
      "Name: Dia, dtype: int32\n"
     ]
    }
   ],
   "source": [
    "#preciso separar a data para criar uma variável preditora para o modelo\n",
    "\n",
    "df['Ano'] = df['Date'].dt.year\n",
    "print(df['Ano'].head())\n",
    "df['Mes'] = df['Date'].dt.month\n",
    "print(df['Mes'].head())\n",
    "df['Dia'] = df['Date'].dt.day\n",
    "print(df['Dia'].head())"
   ]
  },
  {
   "cell_type": "code",
   "execution_count": 84,
   "metadata": {},
   "outputs": [
    {
     "name": "stdout",
     "output_type": "stream",
     "text": [
      "Empresa       Nintendo Corporation\n",
      "Date           2019-02-12 00:00:00\n",
      "Close/Last                  10.008\n",
      "Volume                   1959825.0\n",
      "Open                         9.876\n",
      "High                         10.16\n",
      "Low                          9.876\n",
      "Ano                           2019\n",
      "Mes                              2\n",
      "Dia                             12\n",
      "Name: 3755, dtype: object\n"
     ]
    }
   ],
   "source": [
    "#verificando primeiro valor da coluna 'Date'\n",
    "\n",
    "primeiro_linha = df.sort_values('Date').iloc[0]\n",
    "print(primeiro_linha)"
   ]
  },
  {
   "cell_type": "code",
   "execution_count": 85,
   "metadata": {},
   "outputs": [
    {
     "data": {
      "text/plain": [
       "\"\\nx = np.array(df['Dia'])\\n\\nx = x.reshape(-1,1)\\n\\n\""
      ]
     },
     "execution_count": 85,
     "metadata": {},
     "output_type": "execute_result"
    }
   ],
   "source": [
    "#transformando em bidimensional\n",
    "'''\n",
    "x = np.array(df['Dia'])\n",
    "\n",
    "x = x.reshape(-1,1)\n",
    "\n",
    "'''"
   ]
  },
  {
   "cell_type": "code",
   "execution_count": 86,
   "metadata": {},
   "outputs": [
    {
     "name": "stdout",
     "output_type": "stream",
     "text": [
      "datetime64[ns]\n"
     ]
    }
   ],
   "source": [
    "df['Dia'] = pd.to_datetime(df['Dia'])\n",
    "\n",
    "# Data inicial para cálculo da distância\n",
    "data_inicial = pd.to_datetime('2019-02-12')\n",
    "\n",
    "# Calcular a distância em dias\n",
    "df['distancia_em_dias'] = (df['Dia'] - data_inicial).dt.days\n",
    "\n",
    "print(df['Dia'].dtype)"
   ]
  },
  {
   "cell_type": "code",
   "execution_count": 87,
   "metadata": {},
   "outputs": [],
   "source": [
    "#transformando a coluna 'Empresa' do tipo string\n",
    "df['Empresa'] = df['Empresa'].astype(str)"
   ]
  }
 ],
 "metadata": {
  "kernelspec": {
   "display_name": "base",
   "language": "python",
   "name": "python3"
  },
  "language_info": {
   "codemirror_mode": {
    "name": "ipython",
    "version": 3
   },
   "file_extension": ".py",
   "mimetype": "text/x-python",
   "name": "python",
   "nbconvert_exporter": "python",
   "pygments_lexer": "ipython3",
   "version": "3.9.13"
  }
 },
 "nbformat": 4,
 "nbformat_minor": 2
}
