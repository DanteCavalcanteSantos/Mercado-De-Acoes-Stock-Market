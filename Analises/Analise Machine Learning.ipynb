{
 "cells": [
  {
   "cell_type": "code",
   "execution_count": null,
   "metadata": {},
   "outputs": [],
   "source": [
    "'''\n",
    "Objetivo é treinar um modelo de regressão linear para fazer previsões de preços das empresa Sony, Microsoft, Ubisoft, Nintendo, Eletronic Arts\n",
    "\n",
    "'''"
   ]
  },
  {
   "cell_type": "code",
   "execution_count": 2,
   "metadata": {},
   "outputs": [],
   "source": [
    "#Bibliotecas utilizadas\n",
    "import pandas as pd\n",
    "import numpy as np\n",
    "import matplotlib.pyplot as plt\n",
    "from sklearn.linear_model import LinearRegression\n",
    "from sklearn.model_selection import train_test_split\n",
    "from sklearn.metrics import mean_squared_error, r2_score\n",
    "import datetime as dt"
   ]
  },
  {
   "cell_type": "code",
   "execution_count": 3,
   "metadata": {},
   "outputs": [],
   "source": [
    "#Carregamento dos dados\n",
    "\n",
    "dados =  pd.read_excel(r\"C:\\Users\\dante\\OneDrive\\Documentos\\9. Meus Projetos\\Projetos Power Bi\\Mercado de Ações\\Dados\\Agrupado.xlsx\")\n",
    "\n",
    "df = pd.DataFrame(dados)"
   ]
  },
  {
   "cell_type": "code",
   "execution_count": null,
   "metadata": {},
   "outputs": [],
   "source": [
    "#Visão Geral\n",
    "\n",
    "print(df.shape)\n",
    "print(df.columns)\n",
    "print(df.head())\n",
    "df.info()\n",
    "\n",
    "#A coluna 'Date' será a variavel preditora\n",
    "#As colunas 'Close/Last', 'Volume', 'Open', 'High', 'Low' serão as colunas alvos"
   ]
  },
  {
   "cell_type": "code",
   "execution_count": 5,
   "metadata": {},
   "outputs": [],
   "source": [
    "#Salvando uma cópia do dataset\n",
    "\n",
    "df_original = df.copy()"
   ]
  },
  {
   "cell_type": "code",
   "execution_count": null,
   "metadata": {},
   "outputs": [],
   "source": [
    "#Conversão de objeto para data\n",
    "df['Date'] = pd.to_datetime(df['Date'], errors='coerce', format=None)\n",
    "#conferindo as informações\n",
    "print(df['Date'].dtypes)\n",
    "print(df['Date'].head())\n",
    "\n"
   ]
  },
  {
   "cell_type": "code",
   "execution_count": null,
   "metadata": {},
   "outputs": [],
   "source": []
  },
  {
   "cell_type": "code",
   "execution_count": null,
   "metadata": {},
   "outputs": [],
   "source": [
    "#tipos das colunas\n",
    "\n",
    "tipos = df.dtypes\n",
    "print(tipos)"
   ]
  },
  {
   "cell_type": "code",
   "execution_count": null,
   "metadata": {},
   "outputs": [],
   "source": [
    "#Análise Exploratória - Resumo Estatístico\n",
    "\n",
    "valores_ausentes = df.isnull().sum()\n",
    "print(valores_ausentes)\n"
   ]
  },
  {
   "cell_type": "code",
   "execution_count": null,
   "metadata": {},
   "outputs": [],
   "source": [
    "#Tirando o cifrão do número\n",
    "\n",
    "df['Open'] = df['Open'].str.replace(\"$\", '')\n",
    "df['Close/Last'] = df['Close/Last'].str.replace(\"$\", '')\n",
    "df['High'] = df['High'].str.replace(\"$\", '')\n",
    "df['Low'] = df['Low'].str.replace(\"$\", '')\n",
    "\n",
    "print(df['Open'].head())\n",
    "print(df['Close/Last'].head())\n",
    "print(df['High'].head())\n",
    "print(df['Low'].head())"
   ]
  },
  {
   "cell_type": "code",
   "execution_count": null,
   "metadata": {},
   "outputs": [],
   "source": [
    "#Mudando o tipo de objeto para float\n",
    "df['Open'] = df['Open'].astype(float)\n",
    "df['Close/Last'] = df['Close/Last'].astype(float)\n",
    "df['High'] = df['High'].astype(float)\n",
    "df['Low'] = df['Low'].astype(float)\n",
    "df['Volume'] = df['Volume'].astype(float)\n",
    "print(df.dtypes)"
   ]
  },
  {
   "cell_type": "code",
   "execution_count": null,
   "metadata": {},
   "outputs": [],
   "source": [
    "\n",
    "descricao_vol = df['Volume'].describe().round()\n",
    "descricao_open = df['Open'].describe().round()\n",
    "descricao_high = df['High'].describe().round()\n",
    "descricao_low = df['Low'].describe().round()\n",
    "descricao_close = df['Close/Last'].describe().round()\n",
    "print(descricao_vol)"
   ]
  },
  {
   "cell_type": "code",
   "execution_count": null,
   "metadata": {},
   "outputs": [],
   "source": [
    "print(df['Date'].head())"
   ]
  },
  {
   "cell_type": "code",
   "execution_count": null,
   "metadata": {},
   "outputs": [],
   "source": [
    "#verificando primeiro valor da coluna 'Date'\n",
    "\n",
    "primeiro_linha = df.sort_values('Date').iloc[0]\n",
    "print(primeiro_linha)"
   ]
  },
  {
   "cell_type": "code",
   "execution_count": 14,
   "metadata": {},
   "outputs": [],
   "source": [
    "#transformando a coluna 'Empresa' do tipo string\n",
    "df['Empresa'] = df['Empresa'].astype(str)"
   ]
  },
  {
   "cell_type": "code",
   "execution_count": 15,
   "metadata": {},
   "outputs": [],
   "source": [
    "#filtrando as empresas\n",
    "\n",
    "empresa = df['Empresa'].unique()\n",
    "\n",
    "sony_dados = df[df['Empresa'] == 'Sony Corporation']\n",
    "micro_dados = df[df['Empresa'] == 'Microsoft Corporation']\n",
    "ubi_dados = df[df['Empresa'] == 'Ubsoft Entertainment']\n",
    "dados_EA = df[df['Empresa'] == 'Eletronic Arts']\n"
   ]
  },
  {
   "cell_type": "code",
   "execution_count": null,
   "metadata": {},
   "outputs": [],
   "source": [
    "#SONY\n",
    "#pegando a data de inicio\n",
    "min_data = sony_dados['Date'].min()\n",
    "\n",
    "sony_dados['dias_desde_inicio'] = (sony_dados['Date'] - min_data).dt.days\n",
    "\n",
    "print(sony_dados['dias_desde_inicio'].head())\n",
    "\n"
   ]
  },
  {
   "cell_type": "code",
   "execution_count": 19,
   "metadata": {},
   "outputs": [],
   "source": [
    "#SONY\n",
    "#Criação das variaveis features e Targets\n",
    "X_sony = sony_dados[['dias_desde_inicio', 'High', 'Low', 'Open']] \n",
    "y_sony = sony_dados['Close/Last']\n"
   ]
  },
  {
   "cell_type": "code",
   "execution_count": 20,
   "metadata": {},
   "outputs": [],
   "source": [
    "#SONY\n",
    "# Treinando o Modelo\n",
    "\n",
    "x_train, x_test, y_train, y_test = train_test_split(X_sony, y_sony, test_size=0.2, random_state=42)"
   ]
  },
  {
   "cell_type": "code",
   "execution_count": null,
   "metadata": {},
   "outputs": [],
   "source": [
    "#SONY\n",
    "# Treinar o modelo de regressão linear\n",
    "modelo = LinearRegression()\n",
    "modelo.fit(x_train, y_train)"
   ]
  },
  {
   "cell_type": "code",
   "execution_count": null,
   "metadata": {},
   "outputs": [],
   "source": [
    "#SONY\n",
    "#SALVAR ESTA VARIAVEL\n",
    "# Fazer previsões\n",
    "y_pred = modelo.predict(x_test)"
   ]
  },
  {
   "cell_type": "code",
   "execution_count": 25,
   "metadata": {},
   "outputs": [],
   "source": [
    "# Avaliar o modelo\n",
    "mse = mean_squared_error(y_test, y_pred)\n",
    "r2 = r2_score(y_test, y_pred)"
   ]
  },
  {
   "cell_type": "code",
   "execution_count": null,
   "metadata": {},
   "outputs": [],
   "source": [
    "#Microsoft\n",
    "\n",
    "min_data_micro = micro_dados['Date'].min()\n",
    "\n",
    "micro_dados['data_inicio'] = (micro_dados['Date'] - min_data_micro).dt.days\n",
    "\n",
    "print(micro_dados['data_inicio'].head())\n"
   ]
  },
  {
   "cell_type": "code",
   "execution_count": null,
   "metadata": {},
   "outputs": [],
   "source": [
    "#Microsoft Target\n",
    "\n",
    "#Criação das variaveis features e Targets\n",
    "X_micro = micro_dados[['data_inicio', 'High', 'Low', 'Open']] \n",
    "y_micro = micro_dados['Close/Last']"
   ]
  },
  {
   "cell_type": "code",
   "execution_count": 30,
   "metadata": {},
   "outputs": [],
   "source": [
    "#Microsoft\n",
    "# Treinando o Modelo\n",
    "\n",
    "x_train_micro, x_test_micro, y_train_micro, y_test_micro = train_test_split(X_micro, y_micro, test_size=0.2, random_state=42)"
   ]
  },
  {
   "cell_type": "code",
   "execution_count": null,
   "metadata": {},
   "outputs": [],
   "source": [
    "#Microsoft\n",
    "# Treinar o modelo de regressão linear\n",
    "modelo_micro = LinearRegression()\n",
    "modelo_micro.fit(x_train_micro, y_train_micro)"
   ]
  },
  {
   "cell_type": "code",
   "execution_count": null,
   "metadata": {},
   "outputs": [],
   "source": [
    "#Microsoft\n",
    "#SALVAR ESTA VARIAVEL\n",
    "# Fazer previsões\n",
    "y_pred_micro = modelo_micro.predict(x_test_micro)\n",
    "\n",
    "print(y_pred_micro)"
   ]
  },
  {
   "cell_type": "code",
   "execution_count": null,
   "metadata": {},
   "outputs": [],
   "source": [
    "#Ubisoft\n",
    "min_data_ubi = ubi_dados['Date'].min()\n",
    "\n",
    "ubi_dados['data_inicio_ubi'] = (ubi_dados['Date'] - min_data_ubi).dt.days"
   ]
  },
  {
   "cell_type": "code",
   "execution_count": null,
   "metadata": {},
   "outputs": [],
   "source": [
    "#Ubisoft targe\n",
    "\n",
    "#Criação das variaveis features e Targets\n",
    "X_ubi = ubi_dados[['data_inicio_ubi', 'High', 'Low', 'Open']] \n",
    "y_ubi = ubi_dados['Close/Last']"
   ]
  },
  {
   "cell_type": "code",
   "execution_count": 40,
   "metadata": {},
   "outputs": [],
   "source": [
    "#Ubisoft\n",
    "# Treinando o Modelo\n",
    "\n",
    "x_train_ubi, x_test_ubi, y_train_ubi, y_test_ubi = train_test_split(X_ubi, y_ubi, test_size=0.2, random_state=42)"
   ]
  },
  {
   "cell_type": "code",
   "execution_count": null,
   "metadata": {},
   "outputs": [],
   "source": [
    "#Ubisoft\n",
    "# Treinar o modelo de regressão linear\n",
    "modelo_ubi = LinearRegression()\n",
    "modelo_ubi.fit(x_train_ubi, y_train_ubi)"
   ]
  },
  {
   "cell_type": "code",
   "execution_count": null,
   "metadata": {},
   "outputs": [],
   "source": [
    "#Ubisoft\n",
    "#SALVAR ESTA VARIAVEL\n",
    "# Fazer previsões\n",
    "y_pred_ubi = modelo_ubi.predict(x_test_ubi)\n",
    "\n",
    "print(y_pred_ubi)"
   ]
  },
  {
   "cell_type": "code",
   "execution_count": null,
   "metadata": {},
   "outputs": [],
   "source": [
    "#Electronic Arts dados_EA\n",
    "\n",
    "min_data_EA = dados_EA['Date'].min()\n",
    "\n",
    "dados_EA['data_inicio_EA'] = (dados_EA['Date'] - min_data_EA).dt.days"
   ]
  },
  {
   "cell_type": "code",
   "execution_count": 46,
   "metadata": {},
   "outputs": [],
   "source": [
    "#Electronic Arts target\n",
    "\n",
    "#Criação das variaveis features e Targets\n",
    "X_EA = dados_EA[['data_inicio_EA', 'High', 'Low', 'Open']] \n",
    "y_EA = dados_EA['Close/Last']"
   ]
  },
  {
   "cell_type": "code",
   "execution_count": 47,
   "metadata": {},
   "outputs": [],
   "source": [
    "#Electronic Arts\n",
    "# Treinando o Modelo\n",
    "\n",
    "x_train_EA, x_test_EA, y_train_EA, y_test_EA = train_test_split(X_EA, y_EA, test_size=0.2, random_state=42)"
   ]
  },
  {
   "cell_type": "code",
   "execution_count": null,
   "metadata": {},
   "outputs": [],
   "source": [
    "#Electronic Arts\n",
    "# Treinar o modelo de regressão linear\n",
    "modelo_EA = LinearRegression()\n",
    "modelo_EA.fit(x_train_EA, y_train_EA)"
   ]
  },
  {
   "cell_type": "code",
   "execution_count": null,
   "metadata": {},
   "outputs": [],
   "source": [
    "#Electronic Arts\n",
    "#SALVAR ESTA VARIAVEL\n",
    "# Fazer previsões\n",
    "y_pred_EA = modelo_EA.predict(x_test_EA)\n",
    "\n",
    "print(y_pred_EA)"
   ]
  }
 ],
 "metadata": {
  "kernelspec": {
   "display_name": "base",
   "language": "python",
   "name": "python3"
  },
  "language_info": {
   "codemirror_mode": {
    "name": "ipython",
    "version": 3
   },
   "file_extension": ".py",
   "mimetype": "text/x-python",
   "name": "python",
   "nbconvert_exporter": "python",
   "pygments_lexer": "ipython3",
   "version": "3.9.13"
  }
 },
 "nbformat": 4,
 "nbformat_minor": 2
}
